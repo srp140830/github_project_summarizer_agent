{
 "cells": [
  {
   "cell_type": "code",
   "execution_count": 1,
   "id": "a9e8489f",
   "metadata": {},
   "outputs": [
    {
     "data": {
      "text/plain": [
       "'c:\\\\Users\\\\Sanket Panaskar\\\\Desktop\\\\Projects\\\\langchain\\\\github_projects_summarizer\\\\research'"
      ]
     },
     "execution_count": 1,
     "metadata": {},
     "output_type": "execute_result"
    }
   ],
   "source": [
    "import os\n",
    "%pwd"
   ]
  },
  {
   "cell_type": "code",
   "execution_count": null,
   "id": "13bc207c",
   "metadata": {},
   "outputs": [],
   "source": []
  },
  {
   "cell_type": "code",
   "execution_count": 2,
   "id": "deee453b",
   "metadata": {},
   "outputs": [
    {
     "data": {
      "text/plain": [
       "'c:\\\\Users\\\\Sanket Panaskar\\\\Desktop\\\\Projects\\\\langchain\\\\github_projects_summarizer'"
      ]
     },
     "execution_count": 2,
     "metadata": {},
     "output_type": "execute_result"
    }
   ],
   "source": [
    "os.chdir(\"../\")\n",
    "%pwd"
   ]
  },
  {
   "cell_type": "code",
   "execution_count": 8,
   "id": "7b63b8be",
   "metadata": {},
   "outputs": [
    {
     "name": "stdout",
     "output_type": "stream",
     "text": [
      "{\"message\":\"Not Found\",\"documentation_url\":\"https://docs.github.com/rest/repos/contents#get-repository-content\",\"status\":\"404\"}\n"
     ]
    }
   ],
   "source": [
    "import base64\n",
    "import requests\n",
    "import os\n",
    "\n",
    "username = \"octocat\"\n",
    "repo = \"Hello-World\"\n",
    "\n",
    "\n",
    "headers = {\n",
    "    'Accept': 'application/vnd.github.v3.raw',\n",
    "    'Authorization': f'Bearer {os.getenv(\"GITHUB_API_KEY\")}'\n",
    "}\n",
    "\n",
    "# First, check if README.md exists\n",
    "contents_url = f\"https://api.github.com/repos/octocat/Hello-World/contents/README.md\"\n",
    "contents = requests.get(contents_url, headers=headers).text\n",
    "print(contents)\n"
   ]
  },
  {
   "cell_type": "code",
   "execution_count": 18,
   "id": "1690a2a1",
   "metadata": {},
   "outputs": [
    {
     "name": "stdout",
     "output_type": "stream",
     "text": [
      "octocat\n"
     ]
    }
   ],
   "source": [
    "url = \"https://github.com/octocat\"\n",
    "username=url.split(\"/\")[-1]\n",
    "print(username)"
   ]
  },
  {
   "cell_type": "code",
   "execution_count": 19,
   "id": "438e0cfe",
   "metadata": {},
   "outputs": [
    {
     "name": "stdout",
     "output_type": "stream",
     "text": [
      "# Linguist\n",
      "\n",
      "[issues]: https://github.com/github/linguist/issues\n",
      "[new-issue]: https://github.com/github/linguist/issues/new\n",
      "\n",
      "This library is used on GitHub.com to detect blob languages, ignore binary or vendored files, suppress generated files in diffs, and generate language breakdown graphs.\n",
      "\n",
      "See [Troubleshooting](#troubleshooting) and [`CONTRIBUTING.md`](/CONTRIBUTING.md) before filing an issue or creating a pull request.\n",
      "\n",
      "## Troubleshooting\n",
      "\n",
      "### My repository is detected as the wrong language\n",
      "\n",
      "![language stats bar](https://cloud.githubusercontent.com/assets/173/5562290/48e24654-8ddf-11e4-8fe7-735b0ce3a0d3.png)\n",
      "\n",
      "The Language stats bar displays languages percentages for the files in the repository. The percentages are calculated based on the bytes of code for each language as reported by the [List Languages](https://developer.github.com/v3/repos/#list-languages) API. If the bar is reporting a language that you don't expect:\n",
      "\n",
      "0. Click on the name of the language in the stats bar to see a list of the files that are identified as that language.\n",
      "0. If you see files that you didn't write, consider moving the files into one of the [paths for vendored  code](/lib/linguist/vendor.yml), or use the [manual overrides](#overrides) feature to ignore them.\n",
      "0. If the files are being misclassified, search for [open issues][issues] to see if anyone else has already reported the issue. Any information you can add, especially links to public repositories, is helpful.\n",
      "0. If there are no reported issues of this misclassification, [open an issue][new-issue] and include a link to the repository or a sample of the code that is being misclassified.\n",
      "\n",
      "## Overrides\n",
      "\n",
      "Linguist supports a number of different custom overrides strategies for language definitions and vendored paths.\n",
      "\n",
      "### Using gitattributes\n",
      "\n",
      "Add a `.gitattributes` file to your project and use standard git-style path matchers for the files you want to override to set `linguist-documentation`, `linguist-language`, and `linguist-vendored`. `.gitattributes` will be used to determine language statistics, but will not be used to syntax highlight files. To manually set syntax highlighting, use [Vim or Emacs modelines](#using-emacs-or-vim-modelines).\n",
      "\n",
      "```\n",
      "$ cat .gitattributes\n",
      "*.rb linguist-language=Java\n",
      "```\n",
      "\n",
      "Checking code you didn't write, such as JavaScript libraries, into your git repo is a common practice, but this often inflates your project's language stats and may even cause your project to be labeled as another language. By default, Linguist treats all of the paths defined in [lib/linguist/vendor.yml](https://github.com/github/linguist/blob/master/lib/linguist/vendor.yml) as vendored and therefore doesn't include them in the language statistics for a repository.\n",
      "\n",
      "Use the `linguist-vendored` attribute to vendor or un-vendor paths.\n",
      "\n",
      "```\n",
      "$ cat .gitattributes\n",
      "special-vendored-path/* linguist-vendored\n",
      "jquery.js linguist-vendored=false\n",
      "```\n",
      "\n",
      "Just like vendored files, Linguist excludes documentation files from your project's language stats. [lib/linguist/documentation.yml](lib/linguist/documentation.yml) lists common documentation paths and excludes them from the language statistics for your repository.\n",
      "\n",
      "Use the `linguist-documentation` attribute to mark or unmark paths as documentation.\n",
      "\n",
      "```\n",
      "$ cat .gitattributes\n",
      "project-docs/* linguist-documentation\n",
      "docs/formatter.rb linguist-documentation=false\n",
      "```\n",
      "\n",
      "#### Generated file detection\n",
      "\n",
      "Not all plain text files are true source files. Generated files like minified js and compiled CoffeeScript can be detected and excluded from language stats. As an added bonus, unlike vendored and documentation files, these files are suppressed in diffs.\n",
      "\n",
      "```ruby\n",
      "Linguist::FileBlob.new(\"underscore.min.js\").generated? # => true\n",
      "```\n",
      "\n",
      "See [Linguist::Generated#generated?](https://github.com/github/linguist/blob/master/lib/linguist/generated.rb).\n",
      "\n",
      "### Using Emacs or Vim modelines\n",
      "\n",
      "Alternatively, you can use Vim or Emacs style modelines to set the language for a single file. Modelines can be placed anywhere within a file and are respected when determining how to syntax-highlight a file on GitHub.com\n",
      "\n",
      "##### Vim\n",
      "```\n",
      "# Some examples of various styles:\n",
      "vim: syntax=java\n",
      "vim: set syntax=ruby:\n",
      "vim: set filetype=prolog:\n",
      "vim: set ft=cpp:\n",
      "```\n",
      "\n",
      "##### Emacs\n",
      "```\n",
      "-*- mode: php;-*-\n",
      "```\n",
      "\n",
      "## Usage\n",
      "\n",
      "Install the gem:\n",
      "\n",
      "```\n",
      "$ gem install github-linguist\n",
      "```\n",
      "\n",
      "Then use it in your application:\n",
      "\n",
      "```ruby\n",
      "require 'rugged'\n",
      "require 'linguist'\n",
      "\n",
      "repo = Rugged::Repository.new('.')\n",
      "project = Linguist::Repository.new(repo, repo.head.target_id)\n",
      "project.language       #=> \"Ruby\"\n",
      "project.languages      #=> { \"Ruby\" => 119387 }\n",
      "```\n",
      "\n",
      "These stats are also printed out by the `linguist` executable. You can use the\n",
      "`--breakdown` flag, and the binary will also output the breakdown of files by language.\n",
      "\n",
      "You can try running `linguist` on the root directory in this repository itself:\n",
      "\n",
      "```\n",
      "$ bundle exec linguist --breakdown\n",
      "\n",
      "100.00% Ruby\n",
      "\n",
      "Ruby:\n",
      "Gemfile\n",
      "Rakefile\n",
      "bin/linguist\n",
      "github-linguist.gemspec\n",
      "lib/linguist.rb\n",
      "…\n",
      "```\n",
      "\n",
      "## Contributing\n",
      "\n",
      "Please check out our [contributing guidelines](CONTRIBUTING.md).\n",
      "\n",
      "## License\n",
      "\n",
      "The language grammars included in this gem are covered by their repositories'\n",
      "respective licenses. `grammars.yml` specifies the repository for each grammar.\n",
      "\n",
      "All other files are covered by the MIT license, see `LICENSE`.\n",
      "\n"
     ]
    }
   ],
   "source": [
    "import requests\n",
    "import os\n",
    "\n",
    "username = \"octocat\"\n",
    "repo = \"linguist\"\n",
    "\n",
    "url = f\"https://api.github.com/repos/{username}/{repo}/readme\"\n",
    "\n",
    "headers = {\n",
    "    'Accept': 'application/vnd.github.v3.raw',  # <-- raw content\n",
    "    'Authorization': f'Bearer {os.getenv(\"GITHUB_API_KEY\")}'\n",
    "}\n",
    "\n",
    "response = requests.get(url, headers=headers)\n",
    "\n",
    "if response.status_code == 200:\n",
    "    readme_content = response.text\n",
    "    print(readme_content)\n",
    "else:\n",
    "    print(f\"Failed to fetch README: {response.status_code}\")\n"
   ]
  },
  {
   "cell_type": "code",
   "execution_count": 20,
   "id": "f7ce6d34",
   "metadata": {},
   "outputs": [],
   "source": [
    "import os"
   ]
  },
  {
   "cell_type": "code",
   "execution_count": 21,
   "id": "7506a916",
   "metadata": {},
   "outputs": [],
   "source": [
    "os.getenv('github_headers_raw')"
   ]
  },
  {
   "cell_type": "code",
   "execution_count": null,
   "id": "590f97e2",
   "metadata": {},
   "outputs": [],
   "source": []
  }
 ],
 "metadata": {
  "kernelspec": {
   "display_name": "Python 3",
   "language": "python",
   "name": "python3"
  },
  "language_info": {
   "codemirror_mode": {
    "name": "ipython",
    "version": 3
   },
   "file_extension": ".py",
   "mimetype": "text/x-python",
   "name": "python",
   "nbconvert_exporter": "python",
   "pygments_lexer": "ipython3",
   "version": "3.11.0"
  }
 },
 "nbformat": 4,
 "nbformat_minor": 5
}
